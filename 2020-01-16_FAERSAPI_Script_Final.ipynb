{
 "cells": [
  {
   "cell_type": "code",
   "execution_count": 1,
   "metadata": {},
   "outputs": [],
   "source": [
    "import pandas as pd\n",
    "import requests\n",
    "import json\n",
    "import time\n",
    "import copy\n",
    "import pickle"
   ]
  },
  {
   "cell_type": "code",
   "execution_count": 2,
   "metadata": {},
   "outputs": [],
   "source": [
    "#Setting params for API. Search is handled in the URL itself because I couldn't get it working in the parameters.\n",
    "#NOTE: You'll need to get and set your own API key.\n",
    "parameters = {\n",
    "    \"api_key\": \"\",\n",
    "    \"limit\": 100,\n",
    "    \"skip\":0\n",
    "}"
   ]
  },
  {
   "cell_type": "code",
   "execution_count": 3,
   "metadata": {},
   "outputs": [
    {
     "name": "stdout",
     "output_type": "stream",
     "text": [
      "Response status code: 200\n",
      "Number of records: 80915\n"
     ]
    }
   ],
   "source": [
    "#Initial test API call to see if everything is working\n",
    "response = requests.get('https://api.fda.gov/drug/event.json?search=(aripiprazol+aripiprazole+abilify+aristada+ariprazol+aripirazol)+AND+transmissiondate:[2002-01-01+TO+2019-12-31]', params=parameters)\n",
    "\n",
    "#A response status code of 200 is good. Everything else is bad. More info here: https://restfulapi.net/http-status-codes/\n",
    "print(\"Response status code: \" + str(response.status_code))\n",
    "\n",
    "#Prints out the \"total\" field of the response to see how many records were retrieved\n",
    "print(\"Number of records: \" + str(response.json()['meta']['results']['total']))"
   ]
  },
  {
   "cell_type": "code",
   "execution_count": 4,
   "metadata": {},
   "outputs": [
    {
     "name": "stdout",
     "output_type": "stream",
     "text": [
      "year: 2003\n",
      "URL: https://api.fda.gov/drug/event.json?search=(aripiprazol+aripiprazole+abilify+aristada+ariprazol)+AND+transmissiondate:[2003-01-01+TO+2003-12-31]\n",
      "Records for 2003 not collected. Status code: 404\n",
      "List length for 2003-2003: 0\n",
      "year: 2004\n",
      "URL: https://api.fda.gov/drug/event.json?search=(aripiprazol+aripiprazole+abilify+aristada+ariprazol)+AND+transmissiondate:[2004-01-01+TO+2004-12-31]\n",
      "Year results: 351\n",
      "List length for 2003-2004: 351\n",
      "year: 2005\n",
      "URL: https://api.fda.gov/drug/event.json?search=(aripiprazol+aripiprazole+abilify+aristada+ariprazol)+AND+transmissiondate:[2005-01-01+TO+2005-12-31]\n",
      "Year results: 2040\n",
      "List length for 2003-2005: 2391\n",
      "year: 2006\n",
      "URL: https://api.fda.gov/drug/event.json?search=(aripiprazol+aripiprazole+abilify+aristada+ariprazol)+AND+transmissiondate:[2006-01-01+TO+2006-12-31]\n",
      "Year results: 1632\n",
      "List length for 2003-2006: 4023\n",
      "year: 2007\n",
      "URL: https://api.fda.gov/drug/event.json?search=(aripiprazol+aripiprazole+abilify+aristada+ariprazol)+AND+transmissiondate:[2007-01-01+TO+2007-12-31]\n",
      "Year results: 1810\n",
      "List length for 2003-2007: 5833\n",
      "year: 2008\n",
      "URL: https://api.fda.gov/drug/event.json?search=(aripiprazol+aripiprazole+abilify+aristada+ariprazol)+AND+transmissiondate:[2008-01-01+TO+2008-12-31]\n",
      "Year results: 1164\n",
      "List length for 2003-2008: 6997\n",
      "year: 2009\n",
      "URL: https://api.fda.gov/drug/event.json?search=(aripiprazol+aripiprazole+abilify+aristada+ariprazol)+AND+transmissiondate:[2009-01-01+TO+2009-12-31]\n",
      "Year results: 2957\n",
      "List length for 2003-2009: 9954\n",
      "year: 2010\n",
      "URL: https://api.fda.gov/drug/event.json?search=(aripiprazol+aripiprazole+abilify+aristada+ariprazol)+AND+transmissiondate:[2010-01-01+TO+2010-12-31]\n",
      "Year results: 4463\n",
      "List length for 2003-2010: 14417\n",
      "year: 2011\n",
      "URL: https://api.fda.gov/drug/event.json?search=(aripiprazol+aripiprazole+abilify+aristada+ariprazol)+AND+transmissiondate:[2011-01-01+TO+2011-12-31]\n",
      "Year results: 3373\n",
      "List length for 2003-2011: 17790\n",
      "year: 2012\n",
      "URL: https://api.fda.gov/drug/event.json?search=(aripiprazol+aripiprazole+abilify+aristada+ariprazol)+AND+transmissiondate:[2012-01-01+TO+2012-12-31]\n",
      "Year results: 3911\n",
      "List length for 2003-2012: 21701\n",
      "year: 2013\n",
      "URL: https://api.fda.gov/drug/event.json?search=(aripiprazol+aripiprazole+abilify+aristada+ariprazol)+AND+transmissiondate:[2013-01-01+TO+2013-12-31]\n",
      "Year results: 2308\n",
      "List length for 2003-2013: 24009\n",
      "year: 2014\n",
      "URL: https://api.fda.gov/drug/event.json?search=(aripiprazol+aripiprazole+abilify+aristada+ariprazol)+AND+transmissiondate:[2014-01-01+TO+2014-12-31]\n",
      "Year results: 5154\n",
      "List length for 2003-2014: 29163\n",
      "year: 2015\n",
      "URL: https://api.fda.gov/drug/event.json?search=(aripiprazol+aripiprazole+abilify+aristada+ariprazol)+AND+transmissiondate:[2015-01-01+TO+2015-12-31]\n",
      "Year results: 10341\n",
      "List length for 2003-2015: 39504\n",
      "year: 2016\n",
      "URL: https://api.fda.gov/drug/event.json?search=(aripiprazol+aripiprazole+abilify+aristada+ariprazol)+AND+transmissiondate:[2016-01-01+TO+2016-12-31]\n",
      "Year results: 8389\n",
      "List length for 2003-2016: 47893\n",
      "year: 2017\n",
      "URL: https://api.fda.gov/drug/event.json?search=(aripiprazol+aripiprazole+abilify+aristada+ariprazol)+AND+transmissiondate:[2017-01-01+TO+2017-12-31]\n",
      "Year results: 6774\n",
      "List length for 2003-2017: 54667\n",
      "year: 2018\n",
      "URL: https://api.fda.gov/drug/event.json?search=(aripiprazol+aripiprazole+abilify+aristada+ariprazol)+AND+transmissiondate:[2018-01-01+TO+2018-12-31]\n",
      "Year results: 16963\n",
      "List length for 2003-2018: 71630\n",
      "year: 2019\n",
      "URL: https://api.fda.gov/drug/event.json?search=(aripiprazol+aripiprazole+abilify+aristada+ariprazol)+AND+transmissiondate:[2019-01-01+TO+2019-12-31]\n",
      "Year results: 9285\n",
      "List length for 2003-2019: 80915\n"
     ]
    }
   ],
   "source": [
    "# Here we're collecting all the records and dumping them in an empty list. Since the max skip per call is 25K,\n",
    "# I've batched the records by year. \n",
    "# \n",
    "\n",
    "resultList = []\n",
    "year = 2003\n",
    "url1 = \"https://api.fda.gov/drug/event.json?search=(aripiprazol+aripiprazole+abilify+aristada+ariprazol)+AND+transmissiondate:[\"\n",
    "url2 = \"-01-01+TO+\"\n",
    "url3 = \"-12-31]\"\n",
    "\n",
    "#Loop that iterates thru all the years\n",
    "while year < 2020:\n",
    "    strYear = str(year)\n",
    "    print(\"year: \" + strYear)\n",
    "    \n",
    "    #Reset skip\n",
    "    parameters['skip'] = 0\n",
    "    i = 0\n",
    "    \n",
    "    #Get number of results for given year\n",
    "    yearUrl = url1 + strYear + url2 + strYear +url3\n",
    "    print(\"URL: \" + yearUrl)\n",
    "    yearResponse = requests.get(yearUrl, params=parameters)\n",
    "    \n",
    "    if (yearResponse.status_code) == 200:\n",
    "        yearJson = yearResponse.json()\n",
    "        yearResults = yearJson['meta']['results']['total']\n",
    "        print(\"Year results: \" + str(yearResults))\n",
    "\n",
    "        #Add the year's results to resultList, incrementing the \"skip\" parameter \n",
    "        #until all results have been collected\n",
    "        while i <= yearResults:\n",
    "            query = requests.get(yearUrl, params=parameters)\n",
    "\n",
    "            resultList.extend(query.json()['results'])\n",
    "            i = i + parameters['limit']\n",
    "            parameters['skip'] = i\n",
    "        \n",
    "    else:\n",
    "        print(\"Records for \" + strYear + \" not collected. Status code: \" + str(yearResponse.status_code))\n",
    "    \n",
    "    print(\"List length for 2003-\" + strYear + \": \" + str(len(resultList))) #just printing to see how long it is\n",
    "    \n",
    "    year += 1\n",
    "    \n",
    "    "
   ]
  },
  {
   "cell_type": "code",
   "execution_count": 5,
   "metadata": {},
   "outputs": [],
   "source": [
    "pickle.dump( resultList, open( \"/Users/jjeffrey-wilensky/Sites/abilify-aes-1/data/FAERSAPI_Data.pckl\", \"wb\" ) )"
   ]
  },
  {
   "cell_type": "code",
   "execution_count": 6,
   "metadata": {},
   "outputs": [],
   "source": [
    "resultList = pickle.load( open( \"/Users/jjeffrey-wilensky/Sites/abilify-aes-1/data/FAERSAPI_Data.pckl\", \"rb\" ) )"
   ]
  },
  {
   "cell_type": "code",
   "execution_count": 7,
   "metadata": {
    "scrolled": true
   },
   "outputs": [
    {
     "name": "stdout",
     "output_type": "stream",
     "text": [
      "resultsAgeAvailable length: 48603\n",
      "noAgeInfo length: 32310\n",
      "Total length: 80915\n"
     ]
    }
   ],
   "source": [
    "#Filter out rows with missing age info or missing/scrambled age onset info\n",
    "resultsAgeAvailable = []\n",
    "noAgeInfo = []\n",
    "badAgeInfo = []\n",
    "possibilitiesList = [\"800\",\"801\",\"802\",\"803\",\"804\",\"805\"]\n",
    "for event in resultList:\n",
    "        if 'patientonsetage' in event['patient'] and 'patientonsetageunit' in event['patient']:\n",
    "            #Catches records where the patientonset age unit is \"None\" or otherwise bad\n",
    "            if (event['patient']['patientonsetageunit'] in possibilitiesList):\n",
    "                resultsAgeAvailable.append(event)\n",
    "            else:\n",
    "                badAgeInfo.append(event)\n",
    "        else:\n",
    "            noAgeInfo.append(event)\n",
    "            \n",
    "#Print the lengths of all the lists to check that everything adds up\n",
    "print(\"resultsAgeAvailable length: \" + str(len(resultsAgeAvailable)))\n",
    "print(\"noAgeInfo length: \"+ str(len(noAgeInfo)))\n",
    "print(\"Total length: \" + str(len(resultsAgeAvailable) + len(noAgeInfo) + len(badAgeInfo)))\n",
    "      "
   ]
  },
  {
   "cell_type": "code",
   "execution_count": 8,
   "metadata": {},
   "outputs": [
    {
     "name": "stdout",
     "output_type": "stream",
     "text": [
      "Results with ages standardized: 48603\n"
     ]
    }
   ],
   "source": [
    "#Standardize ages not in years. Multipliers for weeks, days and hours found here:\n",
    "#https://www.inchcalculator.com/convert/time/\n",
    "resultsAgesStandardized = []\n",
    "\n",
    "for event in resultsAgeAvailable:\n",
    "    standardizedEvent = {}\n",
    "    \n",
    "    #Automatically adds ages already in years\n",
    "    if (event['patient']['patientonsetageunit'] == \"801\"):\n",
    "        resultsAgesStandardized.append(event)\n",
    "    else:\n",
    "        \n",
    "        #Decade\n",
    "        if (event['patient']['patientonsetageunit'] == \"800\"):\n",
    "            standardizedEvent = copy.deepcopy(event)\n",
    "            standardizedEvent['patient']['patientonsetage'] = str(int(event['patient']['patientonsetage'])*10)\n",
    "            resultsAgesStandardized.append(event)\n",
    "            \n",
    "        #Month\n",
    "        if (event['patient']['patientonsetageunit'] == \"802\"):\n",
    "            standardizedEvent = copy.deepcopy(event)\n",
    "            standardizedEvent['patient']['patientonsetage'] = str(int(int(event['patient']['patientonsetage'])/12))\n",
    "            resultsAgesStandardized.append(event)\n",
    "            \n",
    "        #Week\n",
    "        if (event['patient']['patientonsetageunit'] == \"803\"):\n",
    "            standardizedEvent = copy.deepcopy(event)\n",
    "            standardizedEvent['patient']['patientonsetage'] = str(int(int(event['patient']['patientonsetage'])*0.019165))\n",
    "            resultsAgesStandardized.append(event)\n",
    "            \n",
    "        #Day\n",
    "        if (event['patient']['patientonsetageunit'] == \"804\"):\n",
    "            standardizedEvent = copy.deepcopy(event)\n",
    "            standardizedEvent['patient']['patientonsetage'] = str(int(int(event['patient']['patientonsetage'])*0.002738))\n",
    "            resultsAgesStandardized.append(event)\n",
    "        \n",
    "        #Hour\n",
    "        if (event['patient']['patientonsetageunit'] == \"805\"):\n",
    "            standardizedEvent = copy.deepcopy(event)\n",
    "            standardizedEvent['patient']['patientonsetage'] = str(int(int(event['patient']['patientonsetage'])*0.000114))\n",
    "            resultsAgesStandardized.append(event)  \n",
    "            \n",
    "#Checks length of resulting list just to be sure we got everything\n",
    "print(\"Results with ages standardized: \" + str(len(resultsAgesStandardized)))\n"
   ]
  },
  {
   "cell_type": "code",
   "execution_count": 9,
   "metadata": {},
   "outputs": [
    {
     "name": "stdout",
     "output_type": "stream",
     "text": [
      "Kids list length: 6750\n",
      "Adults list length: 41800\n",
      "None list length: 53\n",
      "Total: 48603\n"
     ]
    }
   ],
   "source": [
    "#Limit to kids ages 3-17. This one takes a while to run and could stand to be streamlined.\n",
    "resultsKidsOnly = []\n",
    "resultsEveryoneElse = []\n",
    "resultsNone = []\n",
    "\n",
    "for event in resultsAgesStandardized:\n",
    "    \n",
    "    #Makes a copy to avoid Python reference/assignment weirdness\n",
    "    AgeTestEvent = copy.deepcopy(event)\n",
    "    if AgeTestEvent['patient']['patientonsetage'] is not None:\n",
    "        ageInt = int(AgeTestEvent['patient']['patientonsetage'])\n",
    "        if (3 <= ageInt <= 17):\n",
    "            resultsKidsOnly.append(event)\n",
    "        else:\n",
    "            resultsEveryoneElse.append(event)\n",
    "    else:\n",
    "        resultsNone.append(event)\n",
    "\n",
    "print(\"Kids list length: \" + str(len(resultsKidsOnly)))\n",
    "print(\"Adults list length: \" + str(len(resultsEveryoneElse)))\n",
    "print(\"None list length: \" + str(len(resultsNone)))\n",
    "print(\"Total: \" + str(len(resultsKidsOnly) + len(resultsEveryoneElse) + len(resultsNone)))"
   ]
  },
  {
   "cell_type": "code",
   "execution_count": 10,
   "metadata": {},
   "outputs": [
    {
     "name": "stdout",
     "output_type": "stream",
     "text": [
      "Medicinal Product length: 6730\n",
      "Other length: 20\n"
     ]
    }
   ],
   "source": [
    "#Checking that the records have aripirazole or one of its variants in the \"medicinal product\" field\n",
    "medicinalProduct = []\n",
    "medicinalOther = []\n",
    "drugList = [\"ABILIFY\",\"ARIPIPRAZOL\",\"ARISTADA\",\"ARIPIRAZOL\",\"ARIPIRAZOLE\",'abilify', 'aripiprazol',\n",
    "          'aristada', 'aripirazol', 'aripirazole'] #inc a few typos\n",
    "\n",
    "for event in resultsKidsOnly:\n",
    "\n",
    "    addVar = False\n",
    "\n",
    "    for drug in event['patient']['drug']:\n",
    "        if any(ele in drug['medicinalproduct'] for ele in drugList):\n",
    "            addVar = True\n",
    "    \n",
    "    if addVar:\n",
    "        medicinalProduct.append(event)\n",
    "    \n",
    "    else:\n",
    "        medicinalOther.append(event)\n",
    "                \n",
    "print(\"Medicinal Product length: \" + str(len(medicinalProduct)))\n",
    "print(\"Other length: \" + str(len(medicinalOther)))        "
   ]
  },
  {
   "cell_type": "code",
   "execution_count": 11,
   "metadata": {
    "scrolled": false
   },
   "outputs": [
    {
     "name": "stdout",
     "output_type": "stream",
     "text": [
      "PRODUCT USED FOR UNKNOWN INDICATION\n",
      "PRODUCT USED FOR UNKNOWN INDICATION\n",
      "PRODUCT USED FOR UNKNOWN INDICATION\n",
      "PRODUCT USED FOR UNKNOWN INDICATION\n",
      "OBSESSIVE-COMPULSIVE DISORDER\n",
      "ABNORMAL BEHAVIOUR\n",
      "BIPOLAR DISORDER\n",
      "WEIGHT CONTROL\n",
      "BIPOLAR DISORDER\n",
      "PRODUCT USED FOR UNKNOWN INDICATION\n",
      "PRODUCT USED FOR UNKNOWN INDICATION\n",
      "ATTENTION DEFICIT/HYPERACTIVITY DISORDER\n",
      "PRODUCT USED FOR UNKNOWN INDICATION\n",
      "CHRONIC TIC DISORDER\n",
      "HYPOMANIA\n",
      "EPILEPSY\n",
      "PRODUCT USED FOR UNKNOWN INDICATION\n",
      "PRODUCT USED FOR UNKNOWN INDICATION\n",
      "ATTENTION DEFICIT/HYPERACTIVITY DISORDER\n",
      "AGGRESSION\n",
      "MOOD SWINGS\n",
      "PRODUCT USED FOR UNKNOWN INDICATION\n",
      "PRECOCIOUS PUBERTY\n",
      "ABNORMAL BEHAVIOUR\n",
      "AFFECTIVE DISORDER\n",
      "BIPOLAR DISORDER\n",
      "PSYCHIATRIC SYMPTOM\n",
      "PRODUCT USED FOR UNKNOWN INDICATION\n",
      "DEPRESSION\n",
      "IMPAIRED GASTRIC EMPTYING\n",
      "ABNORMAL BEHAVIOUR\n",
      "MOOD ALTERED\n",
      "ABNORMAL BEHAVIOUR\n",
      "PSYCHOTIC SYMPTOM\n",
      "ABNORMAL BEHAVIOUR\n",
      "PSYCHOTIC SYMPTOM\n",
      "PSYCHIATRIC SYMPTOM\n",
      "AGGRESSION\n",
      "PSYCHIATRIC SYMPTOM\n",
      "MOOD ALTERED\n",
      "PSYCHOTIC SYMPTOM\n",
      "MOOD ALTERED\n",
      "SCHIZOPHRENIA\n",
      "ANTIRETROVIRAL THERAPY\n",
      "PROPHYLAXIS\n",
      "ANTIRETROVIRAL THERAPY\n",
      "ANTIRETROVIRAL THERAPY\n",
      "SCHIZOPHRENIA\n",
      "SCHIZOPHRENIA\n"
     ]
    }
   ],
   "source": [
    "#If there are drugs without aripiprazole or one of its known variants in the \"medicinal product\" field, this will\n",
    "#print their indications. If the indication contains autism, it will print the entire record. That way, you can\n",
    "#see how the drug is labeled and consider modifying your stringList so that it includes all instances of\n",
    "#aripiprazole prescribed for autism.\n",
    "for event in medicinalOther:\n",
    "    for drug in event['patient']['drug']:\n",
    "        if 'drugindication' in drug:\n",
    "            print(drug['drugindication'])\n",
    "            if 'AUTISM' in drug['drugindication']:\n",
    "                print(event)"
   ]
  },
  {
   "cell_type": "code",
   "execution_count": 12,
   "metadata": {},
   "outputs": [
    {
     "name": "stdout",
     "output_type": "stream",
     "text": [
      "Abilify suspected: 5684\n",
      "Abilify not suspected: 1066\n"
     ]
    }
   ],
   "source": [
    "#Including only events where aripiprazole has a drugcharacterization of 1, AKA is suspected to have caused the AE\n",
    "\n",
    "abilifySuspect = []\n",
    "abilifyNotSuspect = []\n",
    "\n",
    "for event in resultsKidsOnly:\n",
    "    \n",
    "    addVar1 = False\n",
    "    \n",
    "    for drug in event['patient']['drug']:\n",
    "        if any(ele in drug['medicinalproduct'] for ele in drugList):\n",
    "            if drug['drugcharacterization'] == \"1\":\n",
    "                addVar1 = True\n",
    "                \n",
    "    if addVar1:\n",
    "        abilifySuspect.append(event)\n",
    "    else:\n",
    "        abilifyNotSuspect.append(event)\n",
    "    \n",
    "print(\"Abilify suspected: \" + (str(len(abilifySuspect))))\n",
    "print(\"Abilify not suspected: \" + (str(len(abilifyNotSuspect))))  \n",
    "    \n",
    "    "
   ]
  },
  {
   "cell_type": "code",
   "execution_count": 13,
   "metadata": {},
   "outputs": [
    {
     "name": "stdout",
     "output_type": "stream",
     "text": [
      "Autism indicated: 371\n",
      "Autism not indicated: 5313\n"
     ]
    }
   ],
   "source": [
    "#Limiting to autism only. For some reason, comes up with about 100 fewer than FDA public dash? Maybe bc we limited\n",
    "#ourselves to cases where Abilify was solely responsible?\n",
    "autismIndicated = []\n",
    "autismNotIndicated = []\n",
    "\n",
    "for event in abilifySuspect:\n",
    "    \n",
    "    addVar2 = False\n",
    "    \n",
    "    for drug in event['patient']['drug']:\n",
    "        if any(ele in drug['medicinalproduct'] for ele in drugList):\n",
    "            if 'drugindication' in drug:\n",
    "                if 'autis' in drug['drugindication'].lower():\n",
    "                    addVar2 = True\n",
    "    \n",
    "    if addVar2:\n",
    "        autismIndicated.append(event)\n",
    "    else:\n",
    "        autismNotIndicated.append(event)\n",
    "    \n",
    "print(\"Autism indicated: \" + (str(len(autismIndicated))))\n",
    "print(\"Autism not indicated: \" + (str(len(autismNotIndicated))))           "
   ]
  },
  {
   "cell_type": "code",
   "execution_count": 14,
   "metadata": {},
   "outputs": [
    {
     "data": {
      "text/html": [
       "<div>\n",
       "<style scoped>\n",
       "    .dataframe tbody tr th:only-of-type {\n",
       "        vertical-align: middle;\n",
       "    }\n",
       "\n",
       "    .dataframe tbody tr th {\n",
       "        vertical-align: top;\n",
       "    }\n",
       "\n",
       "    .dataframe thead th {\n",
       "        text-align: right;\n",
       "    }\n",
       "</style>\n",
       "<table border=\"1\" class=\"dataframe\">\n",
       "  <thead>\n",
       "    <tr style=\"text-align: right;\">\n",
       "      <th></th>\n",
       "      <th>reactionoutcome</th>\n",
       "      <th>reactionmeddraversionpt</th>\n",
       "      <th>reactionmeddrapt</th>\n",
       "    </tr>\n",
       "  </thead>\n",
       "  <tbody>\n",
       "    <tr>\n",
       "      <th>1</th>\n",
       "      <td>6</td>\n",
       "      <td>16.0</td>\n",
       "      <td>Tardive dyskinesia</td>\n",
       "    </tr>\n",
       "    <tr>\n",
       "      <th>2</th>\n",
       "      <td>6</td>\n",
       "      <td>16.0</td>\n",
       "      <td>Dizziness</td>\n",
       "    </tr>\n",
       "    <tr>\n",
       "      <th>3</th>\n",
       "      <td>6</td>\n",
       "      <td>16.0</td>\n",
       "      <td>Weight increased</td>\n",
       "    </tr>\n",
       "  </tbody>\n",
       "</table>\n",
       "</div>"
      ],
      "text/plain": [
       "  reactionoutcome reactionmeddraversionpt    reactionmeddrapt\n",
       "1               6                    16.0  Tardive dyskinesia\n",
       "2               6                    16.0           Dizziness\n",
       "3               6                    16.0    Weight increased"
      ]
     },
     "execution_count": 14,
     "metadata": {},
     "output_type": "execute_result"
    }
   ],
   "source": [
    "#Turns \"reaction\" into explorable df\n",
    "rxndf = pd.DataFrame(autismIndicated[90]['patient']['reaction'])\n",
    "rxndf.index = rxndf.index + 1\n",
    "rxndf"
   ]
  },
  {
   "cell_type": "code",
   "execution_count": 15,
   "metadata": {},
   "outputs": [
    {
     "data": {
      "text/plain": [
       "976"
      ]
     },
     "execution_count": 15,
     "metadata": {},
     "output_type": "execute_result"
    }
   ],
   "source": [
    "#Putting rxns into a df\n",
    "rxnList = []\n",
    "for event in autismIndicated:\n",
    "    for reaction in event['patient']['reaction']:\n",
    "        rxnList.append(reaction)\n",
    "\n",
    "rxndf = pd.DataFrame(rxnList)\n",
    "rxndf.index = rxndf.index + 1\n",
    "len(rxndf)"
   ]
  },
  {
   "cell_type": "code",
   "execution_count": 16,
   "metadata": {},
   "outputs": [
    {
     "data": {
      "text/html": [
       "<div>\n",
       "<style scoped>\n",
       "    .dataframe tbody tr th:only-of-type {\n",
       "        vertical-align: middle;\n",
       "    }\n",
       "\n",
       "    .dataframe tbody tr th {\n",
       "        vertical-align: top;\n",
       "    }\n",
       "\n",
       "    .dataframe thead th {\n",
       "        text-align: right;\n",
       "    }\n",
       "</style>\n",
       "<table border=\"1\" class=\"dataframe\">\n",
       "  <thead>\n",
       "    <tr style=\"text-align: right;\">\n",
       "      <th></th>\n",
       "      <th>reactionmeddrapt</th>\n",
       "      <th>reactionoutcome</th>\n",
       "      <th>reactionmeddraversionpt</th>\n",
       "    </tr>\n",
       "  </thead>\n",
       "  <tbody>\n",
       "    <tr>\n",
       "      <th>1</th>\n",
       "      <td>Weight Decreased</td>\n",
       "      <td>NaN</td>\n",
       "      <td>NaN</td>\n",
       "    </tr>\n",
       "    <tr>\n",
       "      <th>2</th>\n",
       "      <td>Fatigue</td>\n",
       "      <td>NaN</td>\n",
       "      <td>NaN</td>\n",
       "    </tr>\n",
       "    <tr>\n",
       "      <th>3</th>\n",
       "      <td>Autistic Disorder</td>\n",
       "      <td>NaN</td>\n",
       "      <td>NaN</td>\n",
       "    </tr>\n",
       "    <tr>\n",
       "      <th>4</th>\n",
       "      <td>Dehydration</td>\n",
       "      <td>NaN</td>\n",
       "      <td>NaN</td>\n",
       "    </tr>\n",
       "    <tr>\n",
       "      <th>5</th>\n",
       "      <td>Dysphagia</td>\n",
       "      <td>NaN</td>\n",
       "      <td>NaN</td>\n",
       "    </tr>\n",
       "    <tr>\n",
       "      <th>...</th>\n",
       "      <td>...</td>\n",
       "      <td>...</td>\n",
       "      <td>...</td>\n",
       "    </tr>\n",
       "    <tr>\n",
       "      <th>972</th>\n",
       "      <td>Product Use In Unapproved Indication</td>\n",
       "      <td>6</td>\n",
       "      <td>22.0</td>\n",
       "    </tr>\n",
       "    <tr>\n",
       "      <th>973</th>\n",
       "      <td>Condition Aggravated</td>\n",
       "      <td>6</td>\n",
       "      <td>22.0</td>\n",
       "    </tr>\n",
       "    <tr>\n",
       "      <th>974</th>\n",
       "      <td>Irritability</td>\n",
       "      <td>6</td>\n",
       "      <td>22.0</td>\n",
       "    </tr>\n",
       "    <tr>\n",
       "      <th>975</th>\n",
       "      <td>Weight Increased</td>\n",
       "      <td>6</td>\n",
       "      <td>22.0</td>\n",
       "    </tr>\n",
       "    <tr>\n",
       "      <th>976</th>\n",
       "      <td>Autism Spectrum Disorder</td>\n",
       "      <td>6</td>\n",
       "      <td>22.0</td>\n",
       "    </tr>\n",
       "  </tbody>\n",
       "</table>\n",
       "<p>976 rows × 3 columns</p>\n",
       "</div>"
      ],
      "text/plain": [
       "                         reactionmeddrapt reactionoutcome  \\\n",
       "1                        Weight Decreased             NaN   \n",
       "2                                 Fatigue             NaN   \n",
       "3                       Autistic Disorder             NaN   \n",
       "4                             Dehydration             NaN   \n",
       "5                               Dysphagia             NaN   \n",
       "..                                    ...             ...   \n",
       "972  Product Use In Unapproved Indication               6   \n",
       "973                  Condition Aggravated               6   \n",
       "974                          Irritability               6   \n",
       "975                      Weight Increased               6   \n",
       "976              Autism Spectrum Disorder               6   \n",
       "\n",
       "    reactionmeddraversionpt  \n",
       "1                       NaN  \n",
       "2                       NaN  \n",
       "3                       NaN  \n",
       "4                       NaN  \n",
       "5                       NaN  \n",
       "..                      ...  \n",
       "972                    22.0  \n",
       "973                    22.0  \n",
       "974                    22.0  \n",
       "975                    22.0  \n",
       "976                    22.0  \n",
       "\n",
       "[976 rows x 3 columns]"
      ]
     },
     "execution_count": 16,
     "metadata": {},
     "output_type": "execute_result"
    }
   ],
   "source": [
    "#Standardizing caps so everything is nice and neat\n",
    "rxndf['reactionmeddrapt'] = rxndf['reactionmeddrapt'].str.title()\n",
    "rxndf"
   ]
  },
  {
   "cell_type": "code",
   "execution_count": 18,
   "metadata": {},
   "outputs": [],
   "source": [
    "#Export to CSV\n",
    "rxndf.to_csv ('/Users/jjeffrey-wilensky/Sites/abilify-aes/2020-01-27_JupyterAEs_Final.csv', index=None, header=True)"
   ]
  },
  {
   "cell_type": "code",
   "execution_count": null,
   "metadata": {},
   "outputs": [],
   "source": []
  }
 ],
 "metadata": {
  "kernelspec": {
   "display_name": "Python 3",
   "language": "python",
   "name": "python3"
  },
  "language_info": {
   "codemirror_mode": {
    "name": "ipython",
    "version": 3
   },
   "file_extension": ".py",
   "mimetype": "text/x-python",
   "name": "python",
   "nbconvert_exporter": "python",
   "pygments_lexer": "ipython3",
   "version": "3.8.0"
  }
 },
 "nbformat": 4,
 "nbformat_minor": 2
}
